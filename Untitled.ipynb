{
 "cells": [
  {
   "cell_type": "code",
   "execution_count": 25,
   "metadata": {},
   "outputs": [
    {
     "name": "stdout",
     "output_type": "stream",
     "text": [
      "Enter any number: 0\n",
      "The element is not in the array\n"
     ]
    }
   ],
   "source": [
    "# recursive solution of binary search for sorted array\n",
    "import math\n",
    "def binary_search(A,low,high,x):\n",
    "    if low <= high:\n",
    "        \n",
    "        mid = math.floor(low + (high - low)/2)\n",
    "        if x == A[mid]:\n",
    "            return mid\n",
    "        elif x < A[mid]:\n",
    "            return binary_search(A,low,mid -1,x)\n",
    "        else:\n",
    "            return binary_search(A,mid+1,high,x)\n",
    "    else:\n",
    "        return -1\n",
    "    \n",
    "A = [2,6,13,21,36,47,63,81,97]\n",
    "x = int(input(\"Enter any number: \"))\n",
    "result = binary_search(A,0,len(A)-1,x)\n",
    "if result == -1:\n",
    "    print(\"The element is not in the array\")\n",
    "else:\n",
    "    print(\"The element is present at index number {}\".format(result))\n",
    "    \n",
    "        "
   ]
  },
  {
   "cell_type": "code",
   "execution_count": null,
   "metadata": {},
   "outputs": [],
   "source": []
  }
 ],
 "metadata": {
  "kernelspec": {
   "display_name": "Python 3",
   "language": "python",
   "name": "python3"
  },
  "language_info": {
   "codemirror_mode": {
    "name": "ipython",
    "version": 3
   },
   "file_extension": ".py",
   "mimetype": "text/x-python",
   "name": "python",
   "nbconvert_exporter": "python",
   "pygments_lexer": "ipython3",
   "version": "3.6.4"
  }
 },
 "nbformat": 4,
 "nbformat_minor": 2
}
